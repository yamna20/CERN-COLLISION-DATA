{
  "nbformat": 4,
  "nbformat_minor": 0,
  "metadata": {
    "colab": {
      "provenance": [],
      "gpuType": "T4",
      "include_colab_link": true
    },
    "kernelspec": {
      "name": "python3",
      "display_name": "Python 3"
    },
    "language_info": {
      "name": "python"
    },
    "accelerator": "GPU"
  },
  "cells": [
    {
      "cell_type": "markdown",
      "metadata": {
        "id": "view-in-github",
        "colab_type": "text"
      },
      "source": [
        "<a href=\"https://colab.research.google.com/github/yamna20/CERN-COLLISION-DATA/blob/main/autoencoders.ipynb\" target=\"_parent\"><img src=\"https://colab.research.google.com/assets/colab-badge.svg\" alt=\"Open In Colab\"/></a>"
      ]
    },
    {
      "cell_type": "code",
      "source": [
        "import keras\n",
        "from keras import layers\n",
        "import numpy as np\n",
        "import matplotlib.pyplot as plt\n",
        "\n",
        "# This is the size of our encoded representations\n",
        "digit_size = 28        # number of pixels in x or y direction in the images\n",
        "original_dim = digit_size * digit_size # dimensionality of 784\n",
        "encoding_dim = 32  # 32 floats -> compression of factor 24.5,\n",
        "                   # assuming the input is 784 floats\n",
        "\n",
        "# This is our input image\n",
        "input_img = keras.Input(shape=(original_dim,))\n",
        "\n",
        "# several options for configuring the autoencoder/decoder:\n",
        "# Choose from:\n",
        "# \"simple\" (single dense layer),\n",
        "# \"sparce\" (with additional sparcity constraint),\n",
        "# \"multilayer\" (multiple dense layers),\n",
        "# \"convolutional\" (convolutional NN),\n",
        "# \"variational\" (variational autoencoder)\n",
        "option = \"simple\"\n",
        "\n",
        "noise = \"off\"   # do you want to add noise to the training images - off/on\n",
        "noise_factor = 0.5   # how much Gaussian noise do you want to add\n",
        "                     # (try 0.5, 0.25, 1.0 and look at the accuracy and images)\n",
        "nepochs = 20    # play around with the number of training steps\n",
        "batch_size = 64 # play around with the number of samples per gradient update"
      ],
      "metadata": {
        "id": "nLTSbV2sKd0T"
      },
      "execution_count": null,
      "outputs": []
    },
    {
      "cell_type": "code",
      "execution_count": null,
      "metadata": {
        "id": "M-Puyu_pFna8"
      },
      "outputs": [],
      "source": [
        "if \"simple\" in option:  # simple single dense layer autoencoder\n",
        "#simplest autoencoder default with a sinlge dense layer\n",
        "\n",
        "# \"encoded\" is the encoded representation of the input\n",
        "  encoded = layers.Dense(encoding_dim, activation='relu')(input_img)\n",
        "# \"decoded\" is the lossy reconstruction of the input\n",
        "  decoded = layers.Dense(original_dim, activation='sigmoid')(encoded)\n",
        "elif \"sparce\" in option:   # same, but with sparcity constraint\n",
        "  from keras import regularizers\n",
        "\n",
        "# Add a Dense layer with a L1 activity regularizer\n",
        "  encoded = layers.Dense(encoding_dim, activation='relu',\n",
        "                activity_regularizer=regularizers.l1(10e-5))(input_img)\n",
        "  decoded = layers.Dense(original_dim, activation='sigmoid')(encoded)\n",
        "elif \"multi\" in option:\n",
        "  encoded = layers.Dense(128, activation='relu')(input_img)\n",
        "  encoded = layers.Dense(64, activation='relu')(encoded)\n",
        "  encoded = layers.Dense(32, activation='relu')(encoded)\n",
        "\n",
        "  decoded = layers.Dense(64, activation='relu')(encoded)\n",
        "  decoded = layers.Dense(128, activation='relu')(decoded)\n",
        "  decoded = layers.Dense(original_dim, activation='sigmoid')(decoded)\n",
        "elif \"conv\" in option: # convolutional autoencoder\n",
        "  input_img = keras.Input(shape=(28, 28, 1))\n",
        "\n",
        "  x = layers.Conv2D(16, (3, 3), activation='relu', padding='same')(input_img)\n",
        "  x = layers.MaxPooling2D((2, 2), padding='same')(x)\n",
        "  x = layers.Conv2D(8, (3, 3), activation='relu', padding='same')(x)\n",
        "  x = layers.MaxPooling2D((2, 2), padding='same')(x)\n",
        "  x = layers.Conv2D(8, (3, 3), activation='relu', padding='same')(x)\n",
        "  encoded = layers.MaxPooling2D((2, 2), padding='same')(x)\n",
        "\n",
        "  # at this point the representation is (4, 4, 8) i.e. 128-dimensional\n",
        "\n",
        "  x = layers.Conv2D(8, (3, 3), activation='relu', padding='same')(encoded)\n",
        "  x = layers.UpSampling2D((2, 2))(x)\n",
        "  x = layers.Conv2D(8, (3, 3), activation='relu', padding='same')(x)\n",
        "  x = layers.UpSampling2D((2, 2))(x)\n",
        "  x = layers.Conv2D(16, (3, 3), activation='relu')(x)\n",
        "  x = layers.UpSampling2D((2, 2))(x)\n",
        "  decoded = layers.Conv2D(1, (3, 3), activation='sigmoid', padding='same')(x)\n",
        "elif \"var\" in option:    # variational autoencoder\n",
        "  intermediate_dim = 64\n",
        "  latent_dim = 2\n",
        "\n",
        "  h = layers.Dense(intermediate_dim, activation='relu')(input_img)\n",
        "  z_mean = layers.Dense(latent_dim)(h)\n",
        "  z_log_sigma = layers.Dense(latent_dim)(h)\n",
        "else:\n",
        "  print(\"Unknown option\")"
      ]
    },
    {
      "cell_type": "code",
      "source": [
        "# This model maps an input to its reconstruction\n",
        "if \"var\" in option:   # this is what we do for the variational autoecoder\n",
        "  from keras import backend as K\n",
        "# Define a sampling function to be used later to sample the latent space\n",
        "  def sampling(args):\n",
        "      z_mean, z_log_sigma = args\n",
        "      epsilon = K.random_normal(shape=(K.shape(z_mean)[0], latent_dim),\n",
        "                                mean=0., stddev=0.1)\n",
        "      return z_mean + K.exp(z_log_sigma) * epsilon\n",
        "\n",
        "  z = layers.Lambda(sampling)([z_mean, z_log_sigma])\n",
        "\n",
        "# Create encoder\n",
        "  encoder = keras.Model(input_img, [z_mean, z_log_sigma, z], name='encoder')\n",
        "\n",
        "# Create decoder\n",
        "  latent_inputs = keras.Input(shape=(latent_dim,), name='z_sampling')\n",
        "  x = layers.Dense(intermediate_dim, activation='relu')(latent_inputs)\n",
        "  outputs = layers.Dense(original_dim, activation='sigmoid')(x)\n",
        "  decoder = keras.Model(latent_inputs, outputs, name='decoder')\n",
        "\n",
        "# instantiate VAE model\n",
        "  outputs = decoder(encoder(input_img)[2])\n",
        "  autoencoder = keras.Model(input_img, outputs, name='vae_mlp')\n",
        "# Calculate the reconstruction loss using cross-entropy\n",
        "  reconstruction_loss = keras.losses.binary_crossentropy(input_img, outputs)\n",
        "  reconstruction_loss *= original_dim\n",
        "# Add the KL divergence term to the loss function\n",
        "  kl_loss = 1 + z_log_sigma - K.square(z_mean) - K.exp(z_log_sigma)\n",
        "  kl_loss = K.sum(kl_loss, axis=-1)\n",
        "  kl_loss *= -0.5\n",
        "  vae_loss = K.mean(reconstruction_loss + kl_loss)\n",
        "# Pass this custom loss function to the autoencoder\n",
        "  autoencoder.add_loss(vae_loss)\n",
        "# Compile the autoencoder\n",
        "  autoencoder.compile(optimizer='adam',metrics=['accuracy'])\n",
        "else:   # and this is what we do for regular autoencoders\n",
        "  autoencoder = keras.Model(input_img, decoded)\n",
        "# This model maps an input to its encoded representation\n",
        "  encoder = keras.Model(input_img, encoded)\n",
        "# Compile the autoencoder\n",
        "  autoencoder.compile(optimizer='adam', loss='binary_crossentropy', metrics=['accuracy'])\n",
        "# Display the schematics of the autoencoder\n",
        "keras.utils.plot_model(autoencoder, show_shapes = True)"
      ],
      "metadata": {
        "id": "S--BUnTlK2-W",
        "colab": {
          "base_uri": "https://localhost:8080/",
          "height": 333
        },
        "outputId": "575226d9-f813-428b-bcb1-874052e4191a"
      },
      "execution_count": null,
      "outputs": [
        {
          "output_type": "execute_result",
          "data": {
            "image/png": "[encoded data removed]",
            "text/plain": [
              "<IPython.core.display.Image object>"
            ]
          },
          "metadata": {},
          "execution_count": 5
        }
      ]
    },
    {
      "cell_type": "code",
      "source": [
        "from keras.datasets import mnist\n",
        "(x_train, y_train), (x_test, y_test) = mnist.load_data()\n",
        "\n",
        "x_train = x_train.astype('float32') / 255.\n",
        "x_test = x_test.astype('float32') / 255.\n",
        "if \"conv\" in option:\n",
        "  x_train = np.reshape(x_train, (len(x_train), 28, 28, 1))\n",
        "  x_test = np.reshape(x_test, (len(x_test), 28, 28, 1))\n",
        "else:\n",
        "  x_train = x_train.reshape((len(x_train), np.prod(x_train.shape[1:])))\n",
        "  x_test = x_test.reshape((len(x_test), np.prod(x_test.shape[1:])))\n",
        "print(x_train.shape)\n",
        "print(x_test.shape)\n",
        "\n",
        "if \"on\" in noise:\n",
        "  x_train_noisy = x_train + noise_factor * np.random.normal(loc=0.0, scale=1.0, size=x_train.shape)\n",
        "  x_test_noisy = x_test + noise_factor * np.random.normal(loc=0.0, scale=1.0, size=x_test.shape)\n",
        "\n",
        "  x_train_noisy = np.clip(x_train_noisy, 0., 1.)\n",
        "  x_test_noisy = np.clip(x_test_noisy, 0., 1.)\n",
        "else:\n",
        "  x_train_noisy = x_train\n",
        "  x_test_noisy = x_test\n"
      ],
      "metadata": {
        "colab": {
          "base_uri": "https://localhost:8080/"
        },
        "id": "jF969G7SF3tK",
        "outputId": "12449cbe-a817-4bf8-96ac-75f611a39af7"
      },
      "execution_count": null,
      "outputs": [
        {
          "output_type": "stream",
          "name": "stdout",
          "text": [
            "Downloading data from https://storage.googleapis.com/tensorflow/tf-keras-datasets/mnist.npz\n",
            "11490434/11490434 [==============================] - 0s 0us/step\n",
            "(60000, 784)\n",
            "(10000, 784)\n"
          ]
        }
      ]
    },
    {
      "cell_type": "code",
      "source": [
        "history = autoencoder.fit(x_train_noisy, x_train,\n",
        "                epochs=nepochs,\n",
        "                batch_size=batch_size,\n",
        "                shuffle=True,\n",
        "                validation_data=(x_test_noisy, x_test))\n",
        "\n",
        "print(history.history.keys())\n",
        "\n",
        "# summarize history for accuracy\n",
        "plt.plot(history.history['accuracy'])\n",
        "plt.plot(history.history['val_accuracy'])\n",
        "plt.title('model accuracy')\n",
        "plt.ylabel('accuracy')\n",
        "plt.xlabel('epoch')\n",
        "plt.legend(['train', 'test'], loc='upper left')\n",
        "plt.show()\n",
        "# summarize history for loss\n",
        "plt.plot(history.history['loss'])\n",
        "plt.plot(history.history['val_loss'])\n",
        "plt.title('model loss')\n",
        "plt.ylabel('loss')\n",
        "plt.xlabel('epoch')\n",
        "plt.legend(['train', 'test'], loc='upper left')\n",
        "plt.show()"
      ],
      "metadata": {
        "colab": {
          "base_uri": "https://localhost:8080/"
        },
        "id": "ctWPiRECF_qi",
        "outputId": "045c9105-3072-4a4d-f676-6ad0d5dcf6f7"
      },
      "execution_count": null,
      "outputs": [
        {
          "output_type": "stream",
          "name": "stdout",
          "text": [
            "Epoch 1/20\n",
            "938/938 [==============================] - 9s 5ms/step - loss: 0.1908 - accuracy: 0.0103 - val_loss: 0.1326 - val_accuracy: 0.0111\n",
            "Epoch 2/20\n",
            "938/938 [==============================] - 4s 4ms/step - loss: 0.1180 - accuracy: 0.0102 - val_loss: 0.1055 - val_accuracy: 0.0108\n",
            "Epoch 3/20\n",
            "938/938 [==============================] - 3s 4ms/step - loss: 0.1021 - accuracy: 0.0112 - val_loss: 0.0974 - val_accuracy: 0.0117\n",
            "Epoch 4/20\n",
            "938/938 [==============================] - 3s 4ms/step - loss: 0.0972 - accuracy: 0.0112 - val_loss: 0.0948 - val_accuracy: 0.0117\n",
            "Epoch 5/20\n",
            "938/938 [==============================] - 4s 4ms/step - loss: 0.0956 - accuracy: 0.0113 - val_loss: 0.0937 - val_accuracy: 0.0127\n",
            "Epoch 6/20\n",
            "938/938 [==============================] - 4s 4ms/step - loss: 0.0949 - accuracy: 0.0111 - val_loss: 0.0934 - val_accuracy: 0.0124\n",
            "Epoch 7/20\n",
            "938/938 [==============================] - 3s 4ms/step - loss: 0.0945 - accuracy: 0.0108 - val_loss: 0.0931 - val_accuracy: 0.0106\n",
            "Epoch 8/20\n",
            "938/938 [==============================] - 4s 4ms/step - loss: 0.0942 - accuracy: 0.0113 - val_loss: 0.0928 - val_accuracy: 0.0134\n",
            "Epoch 9/20\n",
            "938/938 [==============================] - 4s 4ms/step - loss: 0.0940 - accuracy: 0.0120 - val_loss: 0.0928 - val_accuracy: 0.0132\n",
            "Epoch 10/20\n",
            "938/938 [==============================] - 4s 4ms/step - loss: 0.0939 - accuracy: 0.0117 - val_loss: 0.0925 - val_accuracy: 0.0118\n",
            "Epoch 11/20\n",
            "938/938 [==============================] - 4s 4ms/step - loss: 0.0938 - accuracy: 0.0117 - val_loss: 0.0925 - val_accuracy: 0.0117\n",
            "Epoch 12/20\n",
            "938/938 [==============================] - 3s 4ms/step - loss: 0.0937 - accuracy: 0.0119 - val_loss: 0.0924 - val_accuracy: 0.0144\n",
            "Epoch 13/20\n",
            "938/938 [==============================] - 3s 4ms/step - loss: 0.0936 - accuracy: 0.0114 - val_loss: 0.0926 - val_accuracy: 0.0122\n",
            "Epoch 14/20\n",
            "938/938 [==============================] - 4s 4ms/step - loss: 0.0935 - accuracy: 0.0121 - val_loss: 0.0923 - val_accuracy: 0.0141\n",
            "Epoch 15/20\n",
            "938/938 [==============================] - 4s 5ms/step - loss: 0.0935 - accuracy: 0.0119 - val_loss: 0.0923 - val_accuracy: 0.0125\n",
            "Epoch 16/20\n",
            "938/938 [==============================] - 3s 4ms/step - loss: 0.0934 - accuracy: 0.0120 - val_loss: 0.0922 - val_accuracy: 0.0138\n",
            "Epoch 17/20\n",
            "938/938 [==============================] - 4s 4ms/step - loss: 0.0934 - accuracy: 0.0117 - val_loss: 0.0923 - val_accuracy: 0.0118\n",
            "Epoch 18/20\n",
            "938/938 [==============================] - 4s 4ms/step - loss: 0.0933 - accuracy: 0.0124 - val_loss: 0.0921 - val_accuracy: 0.0131\n",
            "Epoch 19/20\n",
            "578/938 [=================>............] - ETA: 1s - loss: 0.0932 - accuracy: 0.0121"
          ]
        }
      ]
    },
    {
      "cell_type": "code",
      "source": [
        "#encoded_imgs = encoder.predict(x_test)\n",
        "decoded_imgs = autoencoder.predict(x_test)\n",
        "\n",
        "n = 10\n",
        "plt.figure(figsize=(20, 4))\n",
        "for i in range(1, n + 1):\n",
        "    # Display original\n",
        "    ax = plt.subplot(2, n, i)\n",
        "    plt.imshow(x_test_noisy[i].reshape(28, 28))\n",
        "    plt.gray()\n",
        "    ax.get_xaxis().set_visible(False)\n",
        "    ax.get_yaxis().set_visible(False)\n",
        "\n",
        "    # Display reconstruction\n",
        "    ax = plt.subplot(2, n, i + n)\n",
        "    plt.imshow(decoded_imgs[i].reshape(28, 28))\n",
        "    plt.gray()\n",
        "    ax.get_xaxis().set_visible(False)\n",
        "    ax.get_yaxis().set_visible(False)\n",
        "plt.show()"
      ],
      "metadata": {
        "id": "rPZwU2poGHUr"
      },
      "execution_count": null,
      "outputs": []
    },
    {
      "cell_type": "code",
      "source": [
        "if \"var\" in option:\n",
        "  x_test_encoded = np.array(encoder.predict(x_test,batch_size = 32))\n",
        "  plt.figure(figsize=(6, 6))\n",
        "  col = np.array(y_test).astype(int)\n",
        "  plt.scatter(x_test_encoded[0,:,0], x_test_encoded[0,:,1], c=col, s=0.2, cmap='hsv')\n",
        "  plt.colorbar()\n",
        "  plt.show()"
      ],
      "metadata": {
        "id": "q5-N3ZR_WBmP"
      },
      "execution_count": null,
      "outputs": []
    },
    {
      "cell_type": "code",
      "source": [
        "if \"var\" in option: # Display a 2D manifold of the digits by using a grid in\n",
        "                    # the latent space and generating images\n",
        "                    # Does the figure match the latent space figure above?\n",
        "  npoints = 12  # figure with npoints x npoints digits\n",
        "\n",
        "  figure = np.zeros((digit_size * npoints, digit_size * npoints))\n",
        "  # We will sample npoints points within [-4, 4] standard deviations\n",
        "  grid_x = np.linspace(-4, 4, npoints)\n",
        "  grid_y = np.linspace(-4, 4, npoints)\n",
        "\n",
        "  for i, yi in enumerate(grid_x):\n",
        "      for j, xi in enumerate(grid_y):\n",
        "          z_sample = np.array([[xi, yi]])\n",
        "          x_decoded = decoder.predict(z_sample,verbose=0)\n",
        "          digit = x_decoded[0].reshape(digit_size, digit_size)\n",
        "          figure[i * digit_size: (i + 1) * digit_size,\n",
        "                j * digit_size: (j + 1) * digit_size] = digit\n",
        "\n",
        "  plt.figure(figsize=(8, 8))\n",
        "  plt.imshow(figure, origin='upper',extent=[-4, 4, 4, -4])# note that y axis\n",
        "                                                          # is reversed\n",
        "  plt.show()"
      ],
      "metadata": {
        "id": "ibK9M89UmmF5"
      },
      "execution_count": null,
      "outputs": []
    }
  ]
}